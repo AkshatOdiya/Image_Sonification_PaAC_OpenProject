{
 "cells": [
  {
   "cell_type": "code",
   "execution_count": null,
   "id": "63084c38-2cb5-4ab0-a6f3-1a626e6dae5b",
   "metadata": {},
   "outputs": [
    {
     "name": "stdout",
     "output_type": "stream",
     "text": [
      "Generating sound from the image...\n"
     ]
    },
    {
     "name": "stderr",
     "output_type": "stream",
     "text": [
      "Processing rows: 100%|█████████████████████████████████████████████████████████████| 100/100 [00:00<00:00, 186.09row/s]"
     ]
    },
    {
     "name": "stdout",
     "output_type": "stream",
     "text": [
      "Sound generated and saved as 'image_sound.wav'.\n"
     ]
    },
    {
     "name": "stderr",
     "output_type": "stream",
     "text": [
      "\n"
     ]
    }
   ],
   "source": [
    "import cv2\n",
    "from pydub.generators import Sine\n",
    "from pydub import AudioSegment\n",
    "import numpy as np\n",
    "from tqdm import tqdm  # Importing tqdm for progress tracking\n",
    "\n",
    "def pixel_to_sound(image, tone_duration=50, block_size=16, max_duration=15000):\n",
    "    height, width, _ = image.shape\n",
    "    sound = AudioSegment.silent(duration=0)  # Start with silent audio\n",
    "    total_tones = max_duration // tone_duration  # Max number of tones\n",
    "\n",
    "    # Downsample image by processing blocks of pixels\n",
    "    row_step = max(1, height // total_tones)\n",
    "\n",
    "    for i in tqdm(range(0, height, row_step), desc=\"Processing rows\", unit=\"row\"):\n",
    "        for j in range(0, width, block_size):\n",
    "            block = image[i:i+row_step, j:j+block_size]\n",
    "            average_pixel = np.mean(block, axis=(0, 1))  # Taking Average of RGB values\n",
    "            brightness = int(np.mean(average_pixel))\n",
    "            frequency = 200 + (brightness / 255) * 1800  # Scale brightness to frequency\n",
    "\n",
    "            # A sine wave at the mapped frequency\n",
    "            tone = Sine(frequency).to_audio_segment(duration=tone_duration)\n",
    "\n",
    "            # Adding tone to the overall sound\n",
    "            sound += tone\n",
    "\n",
    "            # Stop if we exceed max_duration\n",
    "            if len(sound) >= max_duration:\n",
    "                break\n",
    "\n",
    "    return sound[:max_duration]  # Trim the sound to max_duration\n",
    "\n",
    "image_path = \"image_used.png\"\n",
    "image = cv2.imread(image_path)  \n",
    "image = cv2.cvtColor(image, cv2.COLOR_BGR2RGB)  # Convert to RGB\n",
    "\n",
    "# Downsample the image to speed up processing and reduce sound length\n",
    "image = cv2.resize(image, (100, 100))  # Resize to 100x100 pixels\n",
    "\n",
    "# Generate sound from the image with progress tracking\n",
    "print(\"Generating sound from the image...\")\n",
    "sound = pixel_to_sound(image)\n",
    "\n",
    "# Export the sound to a file\n",
    "sound.export(\"image_sound_short.wav\", format=\"wav\")\n",
    "print(\"Sound generated and saved as 'image_sound.wav'.\")\n"
   ]
  },
  {
   "cell_type": "code",
   "execution_count": null,
   "id": "00371a70-7a32-4f7e-bf64-bf1c2b1ef2c8",
   "metadata": {},
   "outputs": [],
   "source": []
  }
 ],
 "metadata": {
  "kernelspec": {
   "display_name": "Python 3 (ipykernel)",
   "language": "python",
   "name": "python3"
  },
  "language_info": {
   "codemirror_mode": {
    "name": "ipython",
    "version": 3
   },
   "file_extension": ".py",
   "mimetype": "text/x-python",
   "name": "python",
   "nbconvert_exporter": "python",
   "pygments_lexer": "ipython3",
   "version": "3.12.3"
  }
 },
 "nbformat": 4,
 "nbformat_minor": 5
}
