{
 "cells": [
  {
   "cell_type": "code",
   "execution_count": 1,
   "id": "70a91fa3-6b97-4c89-be8a-df47ad287892",
   "metadata": {},
   "outputs": [
    {
     "name": "stderr",
     "output_type": "stream",
     "text": [
      "C:\\Users\\Akshay\\AppData\\Roaming\\Python\\Python312\\site-packages\\pydub\\utils.py:170: RuntimeWarning: Couldn't find ffmpeg or avconv - defaulting to ffmpeg, but may not work\n",
      "  warn(\"Couldn't find ffmpeg or avconv - defaulting to ffmpeg, but may not work\", RuntimeWarning)\n"
     ]
    },
    {
     "name": "stdout",
     "output_type": "stream",
     "text": [
      "Generating sound from the image...\n"
     ]
    },
    {
     "name": "stderr",
     "output_type": "stream",
     "text": [
      "Processing rows: 100%|█████████████████████████████████████████████████████████████| 100/100 [00:00<00:00, 183.02row/s]"
     ]
    },
    {
     "name": "stdout",
     "output_type": "stream",
     "text": [
      "Sound generated and saved as 'image_sound_raw_rgb.wav'.\n"
     ]
    },
    {
     "name": "stderr",
     "output_type": "stream",
     "text": [
      "\n"
     ]
    }
   ],
   "source": [
    "import cv2\n",
    "from pydub.generators import Sine\n",
    "from pydub import AudioSegment\n",
    "import numpy as np\n",
    "from tqdm import tqdm  # For progress tracking\n",
    "\n",
    "def pixel_to_sound(image, base_frequency=200, max_frequency=2000, block_size=16, max_duration=15000):\n",
    "    height, width, _ = image.shape\n",
    "    sound = AudioSegment.silent(duration=0)  # Start with silent audio\n",
    "    total_tones = max_duration // 50  # Estimate total tones based on ~50ms per tone\n",
    "    row_step = max(1, height // total_tones)\n",
    "\n",
    "    for i in tqdm(range(0, height, row_step), desc=\"Processing rows\", unit=\"row\"):\n",
    "        for j in range(0, width, block_size):\n",
    "            # Use raw R, G, B values from the current pixel or block\n",
    "            pixel = image[i, j]\n",
    "\n",
    "            # Extract R, G, B components\n",
    "            red, green, blue = pixel\n",
    "\n",
    "            # Map R (Red) to frequency\n",
    "            frequency = base_frequency + (red / 255) * (max_frequency - base_frequency)\n",
    "\n",
    "            # Map G (Green) to volume\n",
    "            volume = int((green / 255) * 10) - 5  # Scale volume to [-5dB, 5dB]\n",
    "\n",
    "            # Map B (Blue) to duration\n",
    "            tone_duration = 20 + (blue / 255) * 80  # Scale duration to 20-100ms\n",
    "\n",
    "            tone = Sine(frequency).to_audio_segment(duration=tone_duration).apply_gain(volume)\n",
    "\n",
    "            # Mix the tone into the overall sound\n",
    "            sound += tone\n",
    "\n",
    "            # Apply constraint, Stop if the maximum duration is reached\n",
    "            if len(sound) >= max_duration:\n",
    "                break\n",
    "\n",
    "    return sound[:max_duration]  # This trim the sound to the maximum allowed duration\n",
    "\n",
    "image_path = \"image_used.png\"\n",
    "image = cv2.imread(image_path) \n",
    "image = cv2.cvtColor(image, cv2.COLOR_BGR2RGB)  \n",
    "\n",
    "# Downsample the image to speed up processing and reduce sound length\n",
    "image = cv2.resize(image, (100, 100))  # Resize to 100x100 pixels\n",
    "\n",
    "print(\"Generating sound from the image...\")\n",
    "sound = pixel_to_sound(image)\n",
    "\n",
    "sound.export(\"image_sound_raw_rgb.wav\", format=\"wav\")\n",
    "print(\"Sound generated and saved as 'image_sound_raw_rgb.wav'.\")"
   ]
  },
  {
   "cell_type": "code",
   "execution_count": null,
   "id": "437cc0a1-ad88-47d5-987a-e62c81e6eaf5",
   "metadata": {},
   "outputs": [],
   "source": []
  }
 ],
 "metadata": {
  "kernelspec": {
   "display_name": "Python 3 (ipykernel)",
   "language": "python",
   "name": "python3"
  },
  "language_info": {
   "codemirror_mode": {
    "name": "ipython",
    "version": 3
   },
   "file_extension": ".py",
   "mimetype": "text/x-python",
   "name": "python",
   "nbconvert_exporter": "python",
   "pygments_lexer": "ipython3",
   "version": "3.12.3"
  }
 },
 "nbformat": 4,
 "nbformat_minor": 5
}
